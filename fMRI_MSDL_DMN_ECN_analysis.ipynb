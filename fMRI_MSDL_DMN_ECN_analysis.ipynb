{
  "nbformat": 4,
  "nbformat_minor": 0,
  "metadata": {
    "colab": {
      "name": "fMRI MSDL DMN ECN analysis",
      "provenance": [],
      "authorship_tag": "ABX9TyOV8jAfRlnBqfUrtEo3600L",
      "include_colab_link": true
    },
    "kernelspec": {
      "name": "python3",
      "display_name": "Python 3"
    },
    "language_info": {
      "name": "python"
    }
  },
  "cells": [
    {
      "cell_type": "markdown",
      "metadata": {
        "id": "view-in-github",
        "colab_type": "text"
      },
      "source": [
        "<a href=\"https://colab.research.google.com/github/Minarose/fMRI-Connectivity-Analysis/blob/main/fMRI_MSDL_DMN_ECN_analysis.ipynb\" target=\"_parent\"><img src=\"https://colab.research.google.com/assets/colab-badge.svg\" alt=\"Open In Colab\"/></a>"
      ]
    },
    {
      "cell_type": "markdown",
      "source": [
        "# Dataset"
      ],
      "metadata": {
        "id": "hIhFdiGxDoLs"
      }
    },
    {
      "cell_type": "markdown",
      "source": [
        "In this notebook we use publicly available fMRI data acquired by Deligianni et al. (2014). The dataset consists of fMRI data from  17 healthy adult volunteers (11 males, 6 females, mean age: 32.84 +/- 8.13 years). Here, we used the fMRI data from 8 out of the 17 subjects. \n"
      ],
      "metadata": {
        "id": "mr-au8p7Dr4r"
      }
    },
    {
      "cell_type": "markdown",
      "source": [
        "The dataset can be found at Open Science Framework (https://osf.io/rmuje/)."
      ],
      "metadata": {
        "id": "-T_y2EImEhBk"
      }
    },
    {
      "cell_type": "markdown",
      "source": [
        "## Preprocessing"
      ],
      "metadata": {
        "id": "v6WAi7OGE_g2"
      }
    },
    {
      "cell_type": "markdown",
      "source": [
        "The dataset was preprocessed the fMRI data using *fMRIPrep* 20.2.6, a robust fMRI preprocessing pipeline based on *Nipype* 1.7.0 (Esteban et al., 2019, 2021; Gorgolewski et al., 2011) Many internal operations of *fMRIPrep* use *Nilearn* 0.6.2 (Abraham et al., 2014).\n"
      ],
      "metadata": {
        "id": "X2waISEeE6IM"
      }
    },
    {
      "cell_type": "markdown",
      "source": [
        "A great tutorial on how to run fMRIPrep can be found [here](https://reproducibility.stanford.edu/fmriprep-tutorial-running-the-docker-image/) \n",
        "\n",
        "(Credits: Stanford.edu)"
      ],
      "metadata": {
        "id": "xS-Gv3ObFup7"
      }
    },
    {
      "cell_type": "markdown",
      "source": [
        "A link to the google drive containing the data of 8/17 subjects preprocessed by fMRIPrep in BIDS format can be found [here](https://drive.google.com/drive/folders/1UBqW2TpuLHLtHTXHJGAqWL489fmng6bB?usp=sharing)"
      ],
      "metadata": {
        "id": "5gv4KChVE-uL"
      }
    }
  ]
}